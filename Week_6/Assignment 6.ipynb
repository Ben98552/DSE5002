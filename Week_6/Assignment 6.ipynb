{
 "cells": [
  {
   "cell_type": "markdown",
   "id": "868f20a6",
   "metadata": {},
   "source": [
    "# Assignment 6\n",
    "### Benjamin Michaels\n",
    "### 8/11/23"
   ]
  },
  {
   "cell_type": "markdown",
   "id": "6b3cc38d",
   "metadata": {},
   "source": [
    "## Question 1\n",
    "1) import the random library. \n",
    "\n",
    "2) Use `random.seed(10)` to initialize a pseudorandom number generator. \n",
    "\n",
    "3) Create a list of 50 random integers from 0 to 15. Call this list `int_list`.\n",
    "\n",
    "4) Print the 10th and 30th elements of the list. \n",
    "\n",
    "You will need to use list comprehension to do this. The syntax for list comprehension is: <new_list> = `[<expression> for <item> in <iterable>]`. For this question your expression will be a randint generator from the random library and your iterable will be `range()`. Researh the documentation on how to use both functions. "
   ]
  },
  {
   "cell_type": "code",
   "execution_count": 17,
   "id": "7abe6a13",
   "metadata": {},
   "outputs": [],
   "source": [
    "# your code here\n",
    "\n",
    "import random"
   ]
  },
  {
   "cell_type": "code",
   "execution_count": null,
   "id": "8ba796cf",
   "metadata": {},
   "outputs": [],
   "source": [
    "random.seed()"
   ]
  },
  {
   "cell_type": "code",
   "execution_count": null,
   "id": "057ffdd8",
   "metadata": {},
   "outputs": [],
   "source": [
    "print(random.randint(0, 15))"
   ]
  },
  {
   "cell_type": "code",
   "execution_count": null,
   "id": "639b5a77",
   "metadata": {},
   "outputs": [],
   "source": [
    "int_list = [random.randint(0, 15) for x in range(0, 50)]"
   ]
  },
  {
   "cell_type": "code",
   "execution_count": 18,
   "id": "eac3e4c9",
   "metadata": {},
   "outputs": [
    {
     "name": "stdout",
     "output_type": "stream",
     "text": [
      "8\n"
     ]
    }
   ],
   "source": [
    "print(int_list[10])"
   ]
  },
  {
   "cell_type": "code",
   "execution_count": 19,
   "id": "6a48e880",
   "metadata": {},
   "outputs": [
    {
     "name": "stdout",
     "output_type": "stream",
     "text": [
      "4\n"
     ]
    }
   ],
   "source": [
    "print(int_list[30])"
   ]
  },
  {
   "cell_type": "markdown",
   "id": "48d4d289",
   "metadata": {},
   "source": [
    "## Question 2\n",
    "1) import the string library.\n",
    "\n",
    "2) Create the string `az_upper` using `string.ascii_uppercase`. This is a single string of uppercase letters\n",
    "\n",
    "3) Create a list of each individual letter from the string. To do this you will need to iterate over the string and append each letter to the an empty list. Call this list `az_list`. \n",
    "\n",
    "4) Print the list.\n",
    "\n",
    "You will need to use a for-loop for this. The syntax for this for-loop should be: \n",
    "\n",
    "`for i in string>:\n",
    "   <list operation>\n",
    "`"
   ]
  },
  {
   "cell_type": "code",
   "execution_count": 57,
   "id": "e259b56f",
   "metadata": {},
   "outputs": [],
   "source": [
    "# your code here\n",
    "\n",
    "import string"
   ]
  },
  {
   "cell_type": "code",
   "execution_count": null,
   "id": "4a46019a",
   "metadata": {},
   "outputs": [],
   "source": [
    "az_upper = string.ascii_uppercase"
   ]
  },
  {
   "cell_type": "code",
   "execution_count": null,
   "id": "4ac4fb42",
   "metadata": {},
   "outputs": [],
   "source": [
    "az_list = []\n",
    "for letter in az_upper:\n",
    "    az_list.append(letter)\n",
    "''"
   ]
  },
  {
   "cell_type": "code",
   "execution_count": null,
   "id": "861fd3a2",
   "metadata": {},
   "outputs": [],
   "source": [
    "print(az_list)\n"
   ]
  },
  {
   "cell_type": "markdown",
   "id": "5b775542",
   "metadata": {},
   "source": [
    "## Question 3\n",
    "1) Create a set from 1 to 5. Call this `set_1`.\n",
    "\n",
    "2) Create a set from int_list. Call this `set_2`.\n",
    "\n",
    "3) Create a set by finding the `symmetric_difference()` of `set_1` and `set_2`. Call this `set_3`.\n",
    "\n",
    "4) What is the length of all three sets?\n",
    "\n"
   ]
  },
  {
   "cell_type": "code",
   "execution_count": 10,
   "id": "4300df51",
   "metadata": {},
   "outputs": [],
   "source": [
    "# your code here\n",
    "\n",
    "set_1 = {1, 2, 3, 4, 5}\n"
   ]
  },
  {
   "cell_type": "code",
   "execution_count": 11,
   "id": "649c06cd",
   "metadata": {},
   "outputs": [],
   "source": [
    "set_2 = set(int_list)"
   ]
  },
  {
   "cell_type": "code",
   "execution_count": 16,
   "id": "849680ab",
   "metadata": {},
   "outputs": [],
   "source": [
    "set_3 = set_1.symmetric_difference(set_2)"
   ]
  },
  {
   "cell_type": "code",
   "execution_count": 15,
   "id": "96028824",
   "metadata": {},
   "outputs": [
    {
     "data": {
      "text/plain": [
       "5"
      ]
     },
     "execution_count": 15,
     "metadata": {},
     "output_type": "execute_result"
    }
   ],
   "source": [
    "len(set_1)"
   ]
  },
  {
   "cell_type": "code",
   "execution_count": 14,
   "id": "1006bee0",
   "metadata": {},
   "outputs": [
    {
     "data": {
      "text/plain": [
       "16"
      ]
     },
     "execution_count": 14,
     "metadata": {},
     "output_type": "execute_result"
    }
   ],
   "source": [
    "len(set_2)"
   ]
  },
  {
   "cell_type": "code",
   "execution_count": 13,
   "id": "0d278033",
   "metadata": {},
   "outputs": [
    {
     "data": {
      "text/plain": [
       "11"
      ]
     },
     "execution_count": 13,
     "metadata": {},
     "output_type": "execute_result"
    }
   ],
   "source": [
    "len(set_3)"
   ]
  },
  {
   "cell_type": "markdown",
   "id": "7cd5e698",
   "metadata": {},
   "source": [
    "## Question 4\n",
    "1) Import default dict and set the default value to 'Not Present'. Call this dict_1.\n",
    "\n",
    "2) Add `int_list`, `set_2`, and `set_3` to `dict_1` using the object names as the key names. \n",
    "\n",
    "3) Create a new dictionary, `dict_2`, using curly bracket notation with `set_1` and `az_list` as the keys and values. \n",
    "\n",
    "4) Invoke the default value of `dict_1` by trying to access the key `az_list`. Create a new set named `set_4` from the value of `dict_1['az_list']`. What is the lenght of the difference between `dict_2['az_list']` and `set_4'?\n",
    "\n",
    "5) Update `dict_2` with `dict_1`. Print the value of the key `az_list` from `dict_2`. What happened?\n",
    "\n",
    "\n",
    "\n",
    "\n"
   ]
  },
  {
   "cell_type": "code",
   "execution_count": 21,
   "id": "6c85d4be",
   "metadata": {},
   "outputs": [],
   "source": [
    "# your code here\n",
    "\n",
    "from collections import defaultdict"
   ]
  },
  {
   "cell_type": "code",
   "execution_count": 22,
   "id": "e0353c52",
   "metadata": {},
   "outputs": [],
   "source": [
    "def def_value():\n",
    "    return \"Not Present\""
   ]
  },
  {
   "cell_type": "code",
   "execution_count": 23,
   "id": "d6983c33",
   "metadata": {},
   "outputs": [],
   "source": [
    "dict_1 = defaultdict(def_value)"
   ]
  },
  {
   "cell_type": "code",
   "execution_count": 24,
   "id": "2abcc3f5",
   "metadata": {},
   "outputs": [],
   "source": [
    "dict_1[\"int_list\"] = int_list"
   ]
  },
  {
   "cell_type": "code",
   "execution_count": 25,
   "id": "62c7c42f",
   "metadata": {},
   "outputs": [],
   "source": [
    "dict_1[\"set_2\"] = set_2"
   ]
  },
  {
   "cell_type": "code",
   "execution_count": 26,
   "id": "c958cb5f",
   "metadata": {},
   "outputs": [],
   "source": [
    "dict_1[\"set_3\"] = set_3"
   ]
  },
  {
   "cell_type": "code",
   "execution_count": 27,
   "id": "2f149832",
   "metadata": {},
   "outputs": [],
   "source": [
    "dict_2 = defaultdict(def_value)"
   ]
  },
  {
   "cell_type": "code",
   "execution_count": 28,
   "id": "6b1af997",
   "metadata": {},
   "outputs": [],
   "source": [
    "dict_2[\"set_1\"] = set_1"
   ]
  },
  {
   "cell_type": "code",
   "execution_count": 29,
   "id": "cf11a953",
   "metadata": {},
   "outputs": [
    {
     "ename": "NameError",
     "evalue": "name 'az_list' is not defined",
     "output_type": "error",
     "traceback": [
      "\u001b[1;31m---------------------------------------------------------------------------\u001b[0m",
      "\u001b[1;31mNameError\u001b[0m                                 Traceback (most recent call last)",
      "Cell \u001b[1;32mIn[29], line 1\u001b[0m\n\u001b[1;32m----> 1\u001b[0m dict_2[\u001b[38;5;124m\"\u001b[39m\u001b[38;5;124maz_list\u001b[39m\u001b[38;5;124m\"\u001b[39m] \u001b[38;5;241m=\u001b[39m \u001b[43maz_list\u001b[49m\n",
      "\u001b[1;31mNameError\u001b[0m: name 'az_list' is not defined"
     ]
    }
   ],
   "source": [
    "dict_2[\"az_list\"] = az_list"
   ]
  },
  {
   "cell_type": "code",
   "execution_count": 30,
   "id": "76bd2913",
   "metadata": {},
   "outputs": [
    {
     "name": "stdout",
     "output_type": "stream",
     "text": [
      "None\n"
     ]
    }
   ],
   "source": [
    "print(dict_1.get(\"az_list\"))"
   ]
  },
  {
   "cell_type": "code",
   "execution_count": 31,
   "id": "feca0047",
   "metadata": {},
   "outputs": [],
   "source": [
    "set_4 = dict_1.get(\"az_list\")"
   ]
  },
  {
   "cell_type": "code",
   "execution_count": 32,
   "id": "3abe1678",
   "metadata": {},
   "outputs": [
    {
     "ename": "TypeError",
     "evalue": "object of type 'NoneType' has no len()",
     "output_type": "error",
     "traceback": [
      "\u001b[1;31m---------------------------------------------------------------------------\u001b[0m",
      "\u001b[1;31mTypeError\u001b[0m                                 Traceback (most recent call last)",
      "Cell \u001b[1;32mIn[32], line 2\u001b[0m\n\u001b[0;32m      1\u001b[0m \u001b[38;5;28mlen\u001b[39m(dict_2[\u001b[38;5;124m'\u001b[39m\u001b[38;5;124maz_list\u001b[39m\u001b[38;5;124m'\u001b[39m])\n\u001b[1;32m----> 2\u001b[0m \u001b[38;5;28;43mlen\u001b[39;49m\u001b[43m(\u001b[49m\u001b[43mset_4\u001b[49m\u001b[43m)\u001b[49m\n",
      "\u001b[1;31mTypeError\u001b[0m: object of type 'NoneType' has no len()"
     ]
    }
   ],
   "source": [
    "len(dict_2['az_list'])\n",
    "len(set_4)"
   ]
  },
  {
   "cell_type": "code",
   "execution_count": null,
   "id": "15d7b6a7",
   "metadata": {},
   "outputs": [],
   "source": [
    "dict_2.update(dict_1)"
   ]
  },
  {
   "cell_type": "code",
   "execution_count": null,
   "id": "cc267ab8",
   "metadata": {},
   "outputs": [],
   "source": [
    "for az_list in dict_2.items():\n",
    "    print(az_list)\n",
    "#turned the original az_list into a tuple and then printed every key and value"
   ]
  }
 ],
 "metadata": {
  "kernelspec": {
   "display_name": "Python 3 (ipykernel)",
   "language": "python",
   "name": "python3"
  },
  "language_info": {
   "codemirror_mode": {
    "name": "ipython",
    "version": 3
   },
   "file_extension": ".py",
   "mimetype": "text/x-python",
   "name": "python",
   "nbconvert_exporter": "python",
   "pygments_lexer": "ipython3",
   "version": "3.10.9"
  }
 },
 "nbformat": 4,
 "nbformat_minor": 5
}
