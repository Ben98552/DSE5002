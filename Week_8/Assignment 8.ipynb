{
 "cells": [
  {
   "cell_type": "markdown",
   "id": "5b5258fe",
   "metadata": {},
   "source": [
    "# Python Project\n",
    "### Benjamin Michaels\n",
    "### 8/25/23"
   ]
  },
  {
   "cell_type": "markdown",
   "id": "b7111d7d",
   "metadata": {},
   "source": [
    "### The libraries you will need"
   ]
  },
  {
   "cell_type": "code",
   "execution_count": null,
   "id": "1e816004",
   "metadata": {},
   "outputs": [],
   "source": [
    "import pandas as pd\n",
    "import numpy as np\n",
    "import seaborn as sns\n",
    "import matplotlib.pyplot as plt\n"
   ]
  },
  {
   "cell_type": "markdown",
   "id": "c0ebfbde",
   "metadata": {},
   "source": [
    "Load in DataFrames"
   ]
  },
  {
   "cell_type": "code",
   "execution_count": null,
   "id": "75b35247",
   "metadata": {},
   "outputs": [],
   "source": [
    "cost_of_living = pd.read_csv('Python Project/cost_of_living.csv')\n",
    "ds_salaries = pd.read_csv('Python Project/ds_salaries.csv')\n",
    "fyi_salary_data=  pd.read_csv('Python Project/Levels_Fyi_Salary_Data.csv')\n",
    "country_codes = pd.read_excel('Python Project/country_codes.xlsx')"
   ]
  },
  {
   "cell_type": "markdown",
   "id": "04288e92",
   "metadata": {
    "scrolled": true
   },
   "source": [
    "Used to find the average salary of a Data Scientist, $108187.83"
   ]
  },
  {
   "cell_type": "code",
   "execution_count": null,
   "id": "6a565a20",
   "metadata": {},
   "outputs": [],
   "source": [
    "ds_salaries.groupby('job_title')['salary_in_usd'].agg([np.mean])"
   ]
  },
  {
   "cell_type": "markdown",
   "id": "eb7250e4",
   "metadata": {},
   "source": [
    "Rename columns to have them merged together"
   ]
  },
  {
   "cell_type": "code",
   "execution_count": null,
   "id": "d67d71c7",
   "metadata": {},
   "outputs": [],
   "source": [
    "country_codes.rename(columns = {'Alpha-2 code': 'country_codes'}, inplace = True)"
   ]
  },
  {
   "cell_type": "markdown",
   "id": "d5b21cd5",
   "metadata": {},
   "source": [
    "Merging of dataframes"
   ]
  },
  {
   "cell_type": "code",
   "execution_count": null,
   "id": "b2230af8",
   "metadata": {},
   "outputs": [],
   "source": [
    "salaries_and_codes = pd.merge(ds_salaries, country_codes, how= 'left', on= 'country_codes')"
   ]
  },
  {
   "cell_type": "markdown",
   "id": "45816b79",
   "metadata": {},
   "source": [
    "Create a dataframe of average salary per country for a data scientist"
   ]
  },
  {
   "cell_type": "code",
   "execution_count": null,
   "id": "b40c25ee",
   "metadata": {},
   "outputs": [],
   "source": [
    "salary_averages = salaries_and_codes.groupby('Country')['salary_in_usd'].mean()"
   ]
  },
  {
   "cell_type": "markdown",
   "id": "5d4678b5",
   "metadata": {},
   "source": [
    "Turn the Series into a Dataframe"
   ]
  },
  {
   "cell_type": "code",
   "execution_count": null,
   "id": "a21fba68",
   "metadata": {},
   "outputs": [],
   "source": [
    "salary_averages_data = salary_averages.to_frame()"
   ]
  },
  {
   "cell_type": "markdown",
   "id": "bd0a1866",
   "metadata": {},
   "source": [
    "Merging country_codes and salary_averages_data dataframes"
   ]
  },
  {
   "cell_type": "code",
   "execution_count": null,
   "id": "37b5232f",
   "metadata": {},
   "outputs": [],
   "source": [
    "salary_averages_data = pd.merge(salary_averages_data, country_codes, how= 'left', on= 'Country')"
   ]
  },
  {
   "cell_type": "markdown",
   "id": "b0814161",
   "metadata": {},
   "source": [
    "Split City column into two comlumns, city and Country"
   ]
  },
  {
   "cell_type": "code",
   "execution_count": null,
   "id": "58b6c650",
   "metadata": {},
   "outputs": [],
   "source": [
    "cost_of_living[['city', 'Country']] = cost_of_living['City'].str.rsplit(',', n=1, expand=True)"
   ]
  },
  {
   "cell_type": "markdown",
   "id": "50affbbb",
   "metadata": {},
   "source": [
    "Get two dataframes to merge even though they were being difficult, this felt like a round about way of doing so"
   ]
  },
  {
   "cell_type": "code",
   "execution_count": null,
   "id": "4948d877",
   "metadata": {},
   "outputs": [],
   "source": [
    "cost_of_living_average = salary_averages_data.Country.str.split()\n",
    "salary_averages_data['Country_new'] = cost_of_living_average.str[:2].str.join(' ')\n",
    "index = cost_of_living.Country.str.split()\n",
    "cost_of_living['Country_new'] = index.str[:2].str.join(' ')\n",
    "\n",
    "country_salary_data = pd.merge(salary_averages_data, cost_of_living, how= 'left', on= 'Country_new')"
   ]
  },
  {
   "cell_type": "markdown",
   "id": "96b7d46e",
   "metadata": {},
   "source": [
    "Create a salary effectiveness column"
   ]
  },
  {
   "cell_type": "code",
   "execution_count": null,
   "id": "e704de47",
   "metadata": {},
   "outputs": [],
   "source": [
    "country_salary_data[\"effective_salary\"] = country_salary_data['salary_in_usd'] / country_salary_data['Cost of Living Index']"
   ]
  },
  {
   "cell_type": "markdown",
   "id": "53802947",
   "metadata": {},
   "source": [
    "Sort by salary effectiveness"
   ]
  },
  {
   "cell_type": "code",
   "execution_count": null,
   "id": "3b5dc687",
   "metadata": {},
   "outputs": [],
   "source": [
    "country_salary_data.sort_values('effective_salary', ascending=False)"
   ]
  },
  {
   "cell_type": "markdown",
   "id": "ad9e37af",
   "metadata": {},
   "source": [
    "Get rid of all rows that show nothing in every value"
   ]
  },
  {
   "cell_type": "code",
   "execution_count": null,
   "id": "331984a5",
   "metadata": {},
   "outputs": [],
   "source": [
    "country_salary_data = country_salary_data[country_salary_data['effective_salary'].notna()]"
   ]
  },
  {
   "cell_type": "markdown",
   "id": "77e50d87",
   "metadata": {},
   "source": [
    "Select the top 5 places"
   ]
  },
  {
   "cell_type": "code",
   "execution_count": null,
   "id": "87e3357f",
   "metadata": {},
   "outputs": [],
   "source": [
    "top_5_places = country_salary_data[:5]"
   ]
  },
  {
   "cell_type": "markdown",
   "id": "8f816f1d",
   "metadata": {},
   "source": [
    "Get rid of unnecessary columns"
   ]
  },
  {
   "cell_type": "code",
   "execution_count": null,
   "id": "61adb93f",
   "metadata": {},
   "outputs": [],
   "source": [
    "top_5_places = top_5_places.drop(['Country_x','salary_in_usd','country_codes','Alpha-3 code','Numeric','Country_new', 'Rank', 'Cost of Living Plus Rent Index'], axis=1)"
   ]
  },
  {
   "cell_type": "markdown",
   "id": "dd3ac291",
   "metadata": {},
   "source": [
    "Create finished bar plot"
   ]
  },
  {
   "cell_type": "code",
   "execution_count": null,
   "id": "1521333b",
   "metadata": {},
   "outputs": [],
   "source": [
    "top_5_places.plot(x='City', kind='bar',stacked=True,\n",
    "                  title= 'Cost of Living')\n"
   ]
  },
  {
   "cell_type": "code",
   "execution_count": null,
   "id": "4eedabe7",
   "metadata": {},
   "outputs": [],
   "source": []
  }
 ],
 "metadata": {
  "kernelspec": {
   "display_name": "Python 3 (ipykernel)",
   "language": "python",
   "name": "python3"
  },
  "language_info": {
   "codemirror_mode": {
    "name": "ipython",
    "version": 3
   },
   "file_extension": ".py",
   "mimetype": "text/x-python",
   "name": "python",
   "nbconvert_exporter": "python",
   "pygments_lexer": "ipython3",
   "version": "3.10.9"
  }
 },
 "nbformat": 4,
 "nbformat_minor": 5
}
